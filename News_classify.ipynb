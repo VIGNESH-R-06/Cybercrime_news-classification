{
  "nbformat": 4,
  "nbformat_minor": 0,
  "metadata": {
    "colab": {
      "provenance": []
    },
    "kernelspec": {
      "name": "python3",
      "display_name": "Python 3"
    },
    "language_info": {
      "name": "python"
    }
  },
  "cells": [
    {
      "cell_type": "markdown",
      "source": [
        "**Classification for News Article**"
      ],
      "metadata": {
        "id": "lwNbIYQhOVVN"
      }
    },
    {
      "cell_type": "code",
      "source": [
        "!pip install GoogleNews"
      ],
      "metadata": {
        "id": "ctfuUQv0cz33"
      },
      "execution_count": null,
      "outputs": []
    },
    {
      "cell_type": "code",
      "source": [
        "from GoogleNews import GoogleNews\n",
        "import gensim\n",
        "import pandas as pd"
      ],
      "metadata": {
        "id": "hnky68WOc2DI"
      },
      "execution_count": null,
      "outputs": []
    },
    {
      "cell_type": "code",
      "source": [
        "googlenews=GoogleNews(start='09/10/2022',end='11/10/2022') #for 30 days\n",
        "googlenews.search('cyber crime')\n",
        "result=googlenews.result()\n",
        "df=pd.DataFrame(result)\n",
        "df.head()"
      ],
      "metadata": {
        "id": "zG5ePLoJcxgQ",
        "colab": {
          "base_uri": "https://localhost:8080/",
          "height": 206
        },
        "outputId": "944d76ae-029e-44db-86ab-50af9a790aa9"
      },
      "execution_count": null,
      "outputs": [
        {
          "output_type": "execute_result",
          "data": {
            "text/plain": [
              "                                               title                  media  \\\n",
              "0  Australia blames cyber criminals in Russia for...                    CNN   \n",
              "1  Hacker demands $10m to stop leaking Australian...             Al Jazeera   \n",
              "2  What do we know about REvil, the Russian ranso...       The Conversation   \n",
              "3  Significant customer data exposed in attack on...           TheRegister.   \n",
              "4  Newly Unsealed Indictment Charges Ukrainian Na...  Department of Justice   \n",
              "\n",
              "          date                   datetime  \\\n",
              "0   5 days ago 2022-11-11 17:27:33.347003   \n",
              "1   6 days ago 2022-11-10 17:27:33.374621   \n",
              "2   5 days ago 2022-11-11 17:27:33.398804   \n",
              "3  1 month ago 2022-10-16 17:27:33.434960   \n",
              "4  3 weeks ago 2022-10-26 17:27:33.458091   \n",
              "\n",
              "                                                desc  \\\n",
              "0  Links to notorious Russian hackers. Cyber secu...   \n",
              "1  A cyber-extortionist has demanded almost $10 m...   \n",
              "2  Australian Federal Police Commissioner Reece K...   \n",
              "3  Multiple entities such as the Australian Cyber...   \n",
              "4  “This type of malware feeds the cybercrime eco...   \n",
              "\n",
              "                                                link  \\\n",
              "0  https://www.cnn.com/2022/11/11/tech/medibank-a...   \n",
              "1  https://www.aljazeera.com/economy/2022/11/10/h...   \n",
              "2  https://theconversation.com/what-do-we-know-ab...   \n",
              "3  https://www.theregister.com/2022/09/23/cyberat...   \n",
              "4  https://www.justice.gov/usao-wdtx/pr/newly-uns...   \n",
              "\n",
              "                                                 img  \n",
              "0  data:image/gif;base64,R0lGODlhAQABAIAAAP//////...  \n",
              "1  data:image/gif;base64,R0lGODlhAQABAIAAAP//////...  \n",
              "2  data:image/gif;base64,R0lGODlhAQABAIAAAP//////...  \n",
              "3  data:image/gif;base64,R0lGODlhAQABAIAAAP//////...  \n",
              "4  data:image/gif;base64,R0lGODlhAQABAIAAAP//////...  "
            ],
            "text/html": [
              "\n",
              "  <div id=\"df-91448cde-a2b9-4c92-a0de-a0f0f697d650\">\n",
              "    <div class=\"colab-df-container\">\n",
              "      <div>\n",
              "<style scoped>\n",
              "    .dataframe tbody tr th:only-of-type {\n",
              "        vertical-align: middle;\n",
              "    }\n",
              "\n",
              "    .dataframe tbody tr th {\n",
              "        vertical-align: top;\n",
              "    }\n",
              "\n",
              "    .dataframe thead th {\n",
              "        text-align: right;\n",
              "    }\n",
              "</style>\n",
              "<table border=\"1\" class=\"dataframe\">\n",
              "  <thead>\n",
              "    <tr style=\"text-align: right;\">\n",
              "      <th></th>\n",
              "      <th>title</th>\n",
              "      <th>media</th>\n",
              "      <th>date</th>\n",
              "      <th>datetime</th>\n",
              "      <th>desc</th>\n",
              "      <th>link</th>\n",
              "      <th>img</th>\n",
              "    </tr>\n",
              "  </thead>\n",
              "  <tbody>\n",
              "    <tr>\n",
              "      <th>0</th>\n",
              "      <td>Australia blames cyber criminals in Russia for...</td>\n",
              "      <td>CNN</td>\n",
              "      <td>5 days ago</td>\n",
              "      <td>2022-11-11 17:27:33.347003</td>\n",
              "      <td>Links to notorious Russian hackers. Cyber secu...</td>\n",
              "      <td>https://www.cnn.com/2022/11/11/tech/medibank-a...</td>\n",
              "      <td>data:image/gif;base64,R0lGODlhAQABAIAAAP//////...</td>\n",
              "    </tr>\n",
              "    <tr>\n",
              "      <th>1</th>\n",
              "      <td>Hacker demands $10m to stop leaking Australian...</td>\n",
              "      <td>Al Jazeera</td>\n",
              "      <td>6 days ago</td>\n",
              "      <td>2022-11-10 17:27:33.374621</td>\n",
              "      <td>A cyber-extortionist has demanded almost $10 m...</td>\n",
              "      <td>https://www.aljazeera.com/economy/2022/11/10/h...</td>\n",
              "      <td>data:image/gif;base64,R0lGODlhAQABAIAAAP//////...</td>\n",
              "    </tr>\n",
              "    <tr>\n",
              "      <th>2</th>\n",
              "      <td>What do we know about REvil, the Russian ranso...</td>\n",
              "      <td>The Conversation</td>\n",
              "      <td>5 days ago</td>\n",
              "      <td>2022-11-11 17:27:33.398804</td>\n",
              "      <td>Australian Federal Police Commissioner Reece K...</td>\n",
              "      <td>https://theconversation.com/what-do-we-know-ab...</td>\n",
              "      <td>data:image/gif;base64,R0lGODlhAQABAIAAAP//////...</td>\n",
              "    </tr>\n",
              "    <tr>\n",
              "      <th>3</th>\n",
              "      <td>Significant customer data exposed in attack on...</td>\n",
              "      <td>TheRegister.</td>\n",
              "      <td>1 month ago</td>\n",
              "      <td>2022-10-16 17:27:33.434960</td>\n",
              "      <td>Multiple entities such as the Australian Cyber...</td>\n",
              "      <td>https://www.theregister.com/2022/09/23/cyberat...</td>\n",
              "      <td>data:image/gif;base64,R0lGODlhAQABAIAAAP//////...</td>\n",
              "    </tr>\n",
              "    <tr>\n",
              "      <th>4</th>\n",
              "      <td>Newly Unsealed Indictment Charges Ukrainian Na...</td>\n",
              "      <td>Department of Justice</td>\n",
              "      <td>3 weeks ago</td>\n",
              "      <td>2022-10-26 17:27:33.458091</td>\n",
              "      <td>“This type of malware feeds the cybercrime eco...</td>\n",
              "      <td>https://www.justice.gov/usao-wdtx/pr/newly-uns...</td>\n",
              "      <td>data:image/gif;base64,R0lGODlhAQABAIAAAP//////...</td>\n",
              "    </tr>\n",
              "  </tbody>\n",
              "</table>\n",
              "</div>\n",
              "      <button class=\"colab-df-convert\" onclick=\"convertToInteractive('df-91448cde-a2b9-4c92-a0de-a0f0f697d650')\"\n",
              "              title=\"Convert this dataframe to an interactive table.\"\n",
              "              style=\"display:none;\">\n",
              "        \n",
              "  <svg xmlns=\"http://www.w3.org/2000/svg\" height=\"24px\"viewBox=\"0 0 24 24\"\n",
              "       width=\"24px\">\n",
              "    <path d=\"M0 0h24v24H0V0z\" fill=\"none\"/>\n",
              "    <path d=\"M18.56 5.44l.94 2.06.94-2.06 2.06-.94-2.06-.94-.94-2.06-.94 2.06-2.06.94zm-11 1L8.5 8.5l.94-2.06 2.06-.94-2.06-.94L8.5 2.5l-.94 2.06-2.06.94zm10 10l.94 2.06.94-2.06 2.06-.94-2.06-.94-.94-2.06-.94 2.06-2.06.94z\"/><path d=\"M17.41 7.96l-1.37-1.37c-.4-.4-.92-.59-1.43-.59-.52 0-1.04.2-1.43.59L10.3 9.45l-7.72 7.72c-.78.78-.78 2.05 0 2.83L4 21.41c.39.39.9.59 1.41.59.51 0 1.02-.2 1.41-.59l7.78-7.78 2.81-2.81c.8-.78.8-2.07 0-2.86zM5.41 20L4 18.59l7.72-7.72 1.47 1.35L5.41 20z\"/>\n",
              "  </svg>\n",
              "      </button>\n",
              "      \n",
              "  <style>\n",
              "    .colab-df-container {\n",
              "      display:flex;\n",
              "      flex-wrap:wrap;\n",
              "      gap: 12px;\n",
              "    }\n",
              "\n",
              "    .colab-df-convert {\n",
              "      background-color: #E8F0FE;\n",
              "      border: none;\n",
              "      border-radius: 50%;\n",
              "      cursor: pointer;\n",
              "      display: none;\n",
              "      fill: #1967D2;\n",
              "      height: 32px;\n",
              "      padding: 0 0 0 0;\n",
              "      width: 32px;\n",
              "    }\n",
              "\n",
              "    .colab-df-convert:hover {\n",
              "      background-color: #E2EBFA;\n",
              "      box-shadow: 0px 1px 2px rgba(60, 64, 67, 0.3), 0px 1px 3px 1px rgba(60, 64, 67, 0.15);\n",
              "      fill: #174EA6;\n",
              "    }\n",
              "\n",
              "    [theme=dark] .colab-df-convert {\n",
              "      background-color: #3B4455;\n",
              "      fill: #D2E3FC;\n",
              "    }\n",
              "\n",
              "    [theme=dark] .colab-df-convert:hover {\n",
              "      background-color: #434B5C;\n",
              "      box-shadow: 0px 1px 3px 1px rgba(0, 0, 0, 0.15);\n",
              "      filter: drop-shadow(0px 1px 2px rgba(0, 0, 0, 0.3));\n",
              "      fill: #FFFFFF;\n",
              "    }\n",
              "  </style>\n",
              "\n",
              "      <script>\n",
              "        const buttonEl =\n",
              "          document.querySelector('#df-91448cde-a2b9-4c92-a0de-a0f0f697d650 button.colab-df-convert');\n",
              "        buttonEl.style.display =\n",
              "          google.colab.kernel.accessAllowed ? 'block' : 'none';\n",
              "\n",
              "        async function convertToInteractive(key) {\n",
              "          const element = document.querySelector('#df-91448cde-a2b9-4c92-a0de-a0f0f697d650');\n",
              "          const dataTable =\n",
              "            await google.colab.kernel.invokeFunction('convertToInteractive',\n",
              "                                                     [key], {});\n",
              "          if (!dataTable) return;\n",
              "\n",
              "          const docLinkHtml = 'Like what you see? Visit the ' +\n",
              "            '<a target=\"_blank\" href=https://colab.research.google.com/notebooks/data_table.ipynb>data table notebook</a>'\n",
              "            + ' to learn more about interactive tables.';\n",
              "          element.innerHTML = '';\n",
              "          dataTable['output_type'] = 'display_data';\n",
              "          await google.colab.output.renderOutput(dataTable, element);\n",
              "          const docLink = document.createElement('div');\n",
              "          docLink.innerHTML = docLinkHtml;\n",
              "          element.appendChild(docLink);\n",
              "        }\n",
              "      </script>\n",
              "    </div>\n",
              "  </div>\n",
              "  "
            ]
          },
          "metadata": {},
          "execution_count": 5
        }
      ]
    },
    {
      "cell_type": "code",
      "execution_count": null,
      "metadata": {
        "id": "Zs_OWpnYcwXs"
      },
      "outputs": [],
      "source": [
        "#creating a dataframe\n",
        "for i in range(2,100):\n",
        "    googlenews.getpage(i)\n",
        "    result=googlenews.result()\n",
        "    df=pd.DataFrame(result)"
      ]
    },
    {
      "cell_type": "code",
      "source": [
        "vulnab=['vulnerabilities',\n",
        " 'vulnerability',\n",
        " 'security',\n",
        " 'could',\n",
        " 'critical',\n",
        " 'management',\n",
        " 'microsoft',\n",
        " 'software',\n",
        " 'code',\n",
        " 'attacker',\n",
        " 'new',\n",
        " 'exploited',\n",
        " 'remote',\n",
        " 'address',\n",
        " 'threat',\n",
        " 'detection',\n",
        " 'exploit',\n",
        " '2022',\n",
        " 'patches',\n",
        " 'researchers',\n",
        " 'highseverity',\n",
        " 'malicious',\n",
        " 'organizations',\n",
        " 'potential',\n",
        " 'execution',\n",
        " 'week',\n",
        " 'risk',\n",
        " 'cisa',\n",
        " 'bug',\n",
        " 'azure',\n",
        " 'cvss',\n",
        " 'access',\n",
        " 'advisory',\n",
        " 'authentication',\n",
        " 'devices',\n",
        " 'attack',\n",
        " 'zeroday',\n",
        " 'published',\n",
        " 'customers',\n",
        " 'update',\n",
        " 'attacks',\n",
        " 'attackers',\n",
        " 'networks',\n",
        " 'injection',\n",
        " 'scanning',\n",
        " 'issues',\n",
        " 'fix',\n",
        " 'first',\n",
        " 'ssvc',\n",
        " 'solution',\n",
        " 'national',\n",
        " 'bypass',\n",
        " 'rce',\n",
        " 'federal',\n",
        " 'hackers',\n",
        " 'saas',\n",
        " 'apple',\n",
        " 'risks',\n",
        " 'monitor',\n",
        " 'java',\n",
        " 'based',\n",
        " 'citrix',\n",
        " 'identify',\n",
        " 'analysis',\n",
        " 'due',\n",
        " 'github',\n",
        " 'scan',\n",
        " 'tracked',\n",
        " 'tools',\n",
        " 'vmware',\n",
        " 'service',\n",
        " 'macos',\n",
        " 'cisco',\n",
        " 'fixed',\n",
        " 'cosmos',\n",
        " 'visibility',\n",
        " 'significant',\n",
        " 'run',\n",
        " 'social',\n",
        " 'continue',\n",
        " 'compliance',\n",
        " 'continuous',\n",
        " 'tool',\n",
        " 'remediation',\n",
        " 'goal',\n",
        " 'enterprise',\n",
        " 'controllers',\n",
        " 'computers',\n",
        " 'monitoring',\n",
        " 'kernel',\n",
        " 'impacting',\n",
        " 'bugs',\n",
        " 'better',\n",
        " 'authorization',\n",
        " 'breach',\n",
        " 'emergency',\n",
        " 'voting',\n",
        " 'cardiometabolic',\n",
        " 'instances',\n",
        " 'vulnerable',\n",
        " 'path',\n",
        " 'collaborative',\n",
        " 'dos',\n",
        " 'technology',\n",
        " 'servers',\n",
        " 'android',\n",
        " 'fixes',\n",
        " 'intelligence',\n",
        " 'exposures',\n",
        " 'mobile',\n",
        " 'way',\n",
        " 'notebook',\n",
        " 'agency',\n",
        " 'cve',\n",
        " 'driver',\n",
        " 'setup',\n",
        " 'testing',\n",
        " 'warned',\n",
        " 'addressed',\n",
        " 'remotely',\n",
        " 'prioritizing',\n",
        " 'crews',\n",
        " 'curtis',\n",
        " 'impact',\n",
        " 'manager',\n",
        " 'drones',\n",
        " 'wordpress',\n",
        " 'fortinet',\n",
        " 'binding',\n",
        " 'operational',\n",
        " 'criminals',\n",
        " 'understanding',\n",
        " 'directive',\n",
        " 'broken',\n",
        " 'warning',\n",
        " 'resolved',\n",
        " 'vcenter',\n",
        " 'linux',\n",
        " 'launched',\n",
        " 'exploits',\n",
        " 'cancerspecific',\n",
        " 'boundaries',\n",
        " 'patching',\n",
        " 'hacking',\n",
        " 'internet',\n",
        " 'around',\n",
        " 'resilience',\n",
        " 'emerging',\n",
        " 'kev',\n",
        " 'series',\n",
        " 'affected',\n",
        " 'scanners',\n",
        " 'generation',\n",
        " 'certin',\n",
        " 'sandbox',\n",
        " 'host',\n",
        " 'codeexploiting',\n",
        " 'involving',\n",
        " 'adversary',\n",
        " 'vulnerabilitythe',\n",
        " 'ventura',\n",
        " 'repository',\n",
        " 'crash',\n",
        " 'efforts',\n",
        " 'administrators',\n",
        " 'networking',\n",
        " 'exploitation',\n",
        " 'launches',\n",
        " 'capabilities',\n",
        " 'professionals']"
      ],
      "metadata": {
        "id": "pBC25trcfJ3m"
      },
      "execution_count": null,
      "outputs": []
    },
    {
      "cell_type": "code",
      "source": [
        "from nltk import word_tokenize\n",
        "import nltk"
      ],
      "metadata": {
        "id": "rYdYmqX5hxXC"
      },
      "execution_count": null,
      "outputs": []
    },
    {
      "cell_type": "code",
      "source": [
        "nltk.download('punkt')"
      ],
      "metadata": {
        "colab": {
          "base_uri": "https://localhost:8080/"
        },
        "id": "TWxclGzch87T",
        "outputId": "e9d6d9d2-a041-4056-de2d-4919feeb1bd0"
      },
      "execution_count": null,
      "outputs": [
        {
          "output_type": "stream",
          "name": "stderr",
          "text": [
            "[nltk_data] Downloading package punkt to /root/nltk_data...\n",
            "[nltk_data]   Unzipping tokenizers/punkt.zip.\n"
          ]
        },
        {
          "output_type": "execute_result",
          "data": {
            "text/plain": [
              "True"
            ]
          },
          "metadata": {},
          "execution_count": 16
        }
      ]
    },
    {
      "cell_type": "code",
      "source": [
        "def exist(sent):\n",
        "    li=[]\n",
        "    for word in word_tokenize(sent):\n",
        "        if word in vulnab:\n",
        "            li.append(\"yes\")   \n",
        "        else:\n",
        "            li.append(\"no\")\n",
        "    if \"yes\" in li:\n",
        "        return \"vulnab\"\n",
        "    else:\n",
        "        return \"others\""
      ],
      "metadata": {
        "id": "V4L3GY16exDj"
      },
      "execution_count": null,
      "outputs": []
    },
    {
      "cell_type": "code",
      "source": [
        "df[\"vulnab\"]=df[\"desc\"].apply(lambda x : exist(str(x)))"
      ],
      "metadata": {
        "id": "VymItLpghXyj"
      },
      "execution_count": null,
      "outputs": []
    },
    {
      "cell_type": "code",
      "source": [
        "df[[\"desc\",\"vulnab\"]]"
      ],
      "metadata": {
        "colab": {
          "base_uri": "https://localhost:8080/",
          "height": 424
        },
        "id": "nyNCbXrThhNy",
        "outputId": "3af39b40-7d50-4065-89eb-453e7f17f6c8"
      },
      "execution_count": null,
      "outputs": [
        {
          "output_type": "execute_result",
          "data": {
            "text/plain": [
              "                                                  desc  vulnab\n",
              "0    Links to notorious Russian hackers. Cyber secu...  vulnab\n",
              "1    A cyber-extortionist has demanded almost $10 m...  others\n",
              "2    Australian Federal Police Commissioner Reece K...  vulnab\n",
              "3    Multiple entities such as the Australian Cyber...  others\n",
              "4    “This type of malware feeds the cybercrime eco...  vulnab\n",
              "..                                                 ...     ...\n",
              "284  Provincial police officers and members of the ...  others\n",
              "285  On Oct. 26, 2022, members of the Ontario Provi...  vulnab\n",
              "286  If you are a victim of cybercrime or become aw...  others\n",
              "287  Backing up your data can help protect you from...  vulnab\n",
              "288  However, the year also saw great threats when ...  others\n",
              "\n",
              "[289 rows x 2 columns]"
            ],
            "text/html": [
              "\n",
              "  <div id=\"df-dd90b2ee-d8af-4d20-a232-c086072e194d\">\n",
              "    <div class=\"colab-df-container\">\n",
              "      <div>\n",
              "<style scoped>\n",
              "    .dataframe tbody tr th:only-of-type {\n",
              "        vertical-align: middle;\n",
              "    }\n",
              "\n",
              "    .dataframe tbody tr th {\n",
              "        vertical-align: top;\n",
              "    }\n",
              "\n",
              "    .dataframe thead th {\n",
              "        text-align: right;\n",
              "    }\n",
              "</style>\n",
              "<table border=\"1\" class=\"dataframe\">\n",
              "  <thead>\n",
              "    <tr style=\"text-align: right;\">\n",
              "      <th></th>\n",
              "      <th>desc</th>\n",
              "      <th>vulnab</th>\n",
              "    </tr>\n",
              "  </thead>\n",
              "  <tbody>\n",
              "    <tr>\n",
              "      <th>0</th>\n",
              "      <td>Links to notorious Russian hackers. Cyber secu...</td>\n",
              "      <td>vulnab</td>\n",
              "    </tr>\n",
              "    <tr>\n",
              "      <th>1</th>\n",
              "      <td>A cyber-extortionist has demanded almost $10 m...</td>\n",
              "      <td>others</td>\n",
              "    </tr>\n",
              "    <tr>\n",
              "      <th>2</th>\n",
              "      <td>Australian Federal Police Commissioner Reece K...</td>\n",
              "      <td>vulnab</td>\n",
              "    </tr>\n",
              "    <tr>\n",
              "      <th>3</th>\n",
              "      <td>Multiple entities such as the Australian Cyber...</td>\n",
              "      <td>others</td>\n",
              "    </tr>\n",
              "    <tr>\n",
              "      <th>4</th>\n",
              "      <td>“This type of malware feeds the cybercrime eco...</td>\n",
              "      <td>vulnab</td>\n",
              "    </tr>\n",
              "    <tr>\n",
              "      <th>...</th>\n",
              "      <td>...</td>\n",
              "      <td>...</td>\n",
              "    </tr>\n",
              "    <tr>\n",
              "      <th>284</th>\n",
              "      <td>Provincial police officers and members of the ...</td>\n",
              "      <td>others</td>\n",
              "    </tr>\n",
              "    <tr>\n",
              "      <th>285</th>\n",
              "      <td>On Oct. 26, 2022, members of the Ontario Provi...</td>\n",
              "      <td>vulnab</td>\n",
              "    </tr>\n",
              "    <tr>\n",
              "      <th>286</th>\n",
              "      <td>If you are a victim of cybercrime or become aw...</td>\n",
              "      <td>others</td>\n",
              "    </tr>\n",
              "    <tr>\n",
              "      <th>287</th>\n",
              "      <td>Backing up your data can help protect you from...</td>\n",
              "      <td>vulnab</td>\n",
              "    </tr>\n",
              "    <tr>\n",
              "      <th>288</th>\n",
              "      <td>However, the year also saw great threats when ...</td>\n",
              "      <td>others</td>\n",
              "    </tr>\n",
              "  </tbody>\n",
              "</table>\n",
              "<p>289 rows × 2 columns</p>\n",
              "</div>\n",
              "      <button class=\"colab-df-convert\" onclick=\"convertToInteractive('df-dd90b2ee-d8af-4d20-a232-c086072e194d')\"\n",
              "              title=\"Convert this dataframe to an interactive table.\"\n",
              "              style=\"display:none;\">\n",
              "        \n",
              "  <svg xmlns=\"http://www.w3.org/2000/svg\" height=\"24px\"viewBox=\"0 0 24 24\"\n",
              "       width=\"24px\">\n",
              "    <path d=\"M0 0h24v24H0V0z\" fill=\"none\"/>\n",
              "    <path d=\"M18.56 5.44l.94 2.06.94-2.06 2.06-.94-2.06-.94-.94-2.06-.94 2.06-2.06.94zm-11 1L8.5 8.5l.94-2.06 2.06-.94-2.06-.94L8.5 2.5l-.94 2.06-2.06.94zm10 10l.94 2.06.94-2.06 2.06-.94-2.06-.94-.94-2.06-.94 2.06-2.06.94z\"/><path d=\"M17.41 7.96l-1.37-1.37c-.4-.4-.92-.59-1.43-.59-.52 0-1.04.2-1.43.59L10.3 9.45l-7.72 7.72c-.78.78-.78 2.05 0 2.83L4 21.41c.39.39.9.59 1.41.59.51 0 1.02-.2 1.41-.59l7.78-7.78 2.81-2.81c.8-.78.8-2.07 0-2.86zM5.41 20L4 18.59l7.72-7.72 1.47 1.35L5.41 20z\"/>\n",
              "  </svg>\n",
              "      </button>\n",
              "      \n",
              "  <style>\n",
              "    .colab-df-container {\n",
              "      display:flex;\n",
              "      flex-wrap:wrap;\n",
              "      gap: 12px;\n",
              "    }\n",
              "\n",
              "    .colab-df-convert {\n",
              "      background-color: #E8F0FE;\n",
              "      border: none;\n",
              "      border-radius: 50%;\n",
              "      cursor: pointer;\n",
              "      display: none;\n",
              "      fill: #1967D2;\n",
              "      height: 32px;\n",
              "      padding: 0 0 0 0;\n",
              "      width: 32px;\n",
              "    }\n",
              "\n",
              "    .colab-df-convert:hover {\n",
              "      background-color: #E2EBFA;\n",
              "      box-shadow: 0px 1px 2px rgba(60, 64, 67, 0.3), 0px 1px 3px 1px rgba(60, 64, 67, 0.15);\n",
              "      fill: #174EA6;\n",
              "    }\n",
              "\n",
              "    [theme=dark] .colab-df-convert {\n",
              "      background-color: #3B4455;\n",
              "      fill: #D2E3FC;\n",
              "    }\n",
              "\n",
              "    [theme=dark] .colab-df-convert:hover {\n",
              "      background-color: #434B5C;\n",
              "      box-shadow: 0px 1px 3px 1px rgba(0, 0, 0, 0.15);\n",
              "      filter: drop-shadow(0px 1px 2px rgba(0, 0, 0, 0.3));\n",
              "      fill: #FFFFFF;\n",
              "    }\n",
              "  </style>\n",
              "\n",
              "      <script>\n",
              "        const buttonEl =\n",
              "          document.querySelector('#df-dd90b2ee-d8af-4d20-a232-c086072e194d button.colab-df-convert');\n",
              "        buttonEl.style.display =\n",
              "          google.colab.kernel.accessAllowed ? 'block' : 'none';\n",
              "\n",
              "        async function convertToInteractive(key) {\n",
              "          const element = document.querySelector('#df-dd90b2ee-d8af-4d20-a232-c086072e194d');\n",
              "          const dataTable =\n",
              "            await google.colab.kernel.invokeFunction('convertToInteractive',\n",
              "                                                     [key], {});\n",
              "          if (!dataTable) return;\n",
              "\n",
              "          const docLinkHtml = 'Like what you see? Visit the ' +\n",
              "            '<a target=\"_blank\" href=https://colab.research.google.com/notebooks/data_table.ipynb>data table notebook</a>'\n",
              "            + ' to learn more about interactive tables.';\n",
              "          element.innerHTML = '';\n",
              "          dataTable['output_type'] = 'display_data';\n",
              "          await google.colab.output.renderOutput(dataTable, element);\n",
              "          const docLink = document.createElement('div');\n",
              "          docLink.innerHTML = docLinkHtml;\n",
              "          element.appendChild(docLink);\n",
              "        }\n",
              "      </script>\n",
              "    </div>\n",
              "  </div>\n",
              "  "
            ]
          },
          "metadata": {},
          "execution_count": 19
        }
      ]
    },
    {
      "cell_type": "code",
      "source": [
        "x= df[\"desc\"]\n",
        "y= df[\"vulnab\"]"
      ],
      "metadata": {
        "id": "kCPVV-OHiHIc"
      },
      "execution_count": null,
      "outputs": []
    },
    {
      "cell_type": "code",
      "source": [
        "from sklearn.model_selection import train_test_split"
      ],
      "metadata": {
        "id": "s6HuKKrgidhm"
      },
      "execution_count": null,
      "outputs": []
    },
    {
      "cell_type": "code",
      "source": [
        "x_train,x_test,y_train,y_test = train_test_split(x,y,test_size=0.2)"
      ],
      "metadata": {
        "id": "X9jHdk1TiUgu"
      },
      "execution_count": null,
      "outputs": []
    },
    {
      "cell_type": "code",
      "source": [
        "from sklearn.feature_extraction.text import CountVectorizer"
      ],
      "metadata": {
        "id": "Lrn1C4e9iXUy"
      },
      "execution_count": null,
      "outputs": []
    },
    {
      "cell_type": "code",
      "source": [
        "vec = CountVectorizer()\n",
        "x_train = vec.fit_transform(x_train).toarray()"
      ],
      "metadata": {
        "id": "BxbiXHOsiZzw"
      },
      "execution_count": null,
      "outputs": []
    },
    {
      "cell_type": "code",
      "source": [
        "x_test = vec.transform(x_test).toarray()"
      ],
      "metadata": {
        "id": "5Q3IRKesigbd"
      },
      "execution_count": null,
      "outputs": []
    },
    {
      "cell_type": "code",
      "source": [
        "# Training the Naive Bayes model on the Training set\n",
        "from sklearn.naive_bayes import GaussianNB\n",
        "classifier = GaussianNB()\n",
        "classifier.fit(x_train, y_train)"
      ],
      "metadata": {
        "colab": {
          "base_uri": "https://localhost:8080/"
        },
        "id": "fb0qT39ciimp",
        "outputId": "940d7b87-64d7-46d5-b89b-b8edb8cf131e"
      },
      "execution_count": null,
      "outputs": [
        {
          "output_type": "execute_result",
          "data": {
            "text/plain": [
              "GaussianNB()"
            ]
          },
          "metadata": {},
          "execution_count": 27
        }
      ]
    },
    {
      "cell_type": "code",
      "source": [
        "y_pred = classifier.predict(x_test)"
      ],
      "metadata": {
        "id": "ELAk3gi4ik2y"
      },
      "execution_count": null,
      "outputs": []
    },
    {
      "cell_type": "code",
      "source": [
        "from sklearn.metrics import accuracy_score"
      ],
      "metadata": {
        "id": "gqjry6zhimqs"
      },
      "execution_count": null,
      "outputs": []
    },
    {
      "cell_type": "code",
      "source": [
        "accuracy_score(y_test,y_pred)"
      ],
      "metadata": {
        "colab": {
          "base_uri": "https://localhost:8080/"
        },
        "id": "vEaZpeZ5ipXv",
        "outputId": "e9b46976-bd10-4371-8cc4-96387fc6ab23"
      },
      "execution_count": null,
      "outputs": [
        {
          "output_type": "execute_result",
          "data": {
            "text/plain": [
              "0.5172413793103449"
            ]
          },
          "metadata": {},
          "execution_count": 30
        }
      ]
    },
    {
      "cell_type": "code",
      "source": [],
      "metadata": {
        "id": "nesOnBGWirFV"
      },
      "execution_count": null,
      "outputs": []
    }
  ]
}